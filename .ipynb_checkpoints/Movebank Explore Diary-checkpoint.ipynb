{
 "cells": [
  {
   "cell_type": "markdown",
   "metadata": {},
   "source": [
    "## Movebank Explore Diary"
   ]
  },
  {
   "cell_type": "markdown",
   "metadata": {},
   "source": [
    "** Table of Content **\n",
    "1. [Overall Questions to Answer](#Overall-Questions-to-Answer)\n",
    "2. [Week of Feburary 18](#Week-of-Feburary-18)"
   ]
  },
  {
   "cell_type": "markdown",
   "metadata": {},
   "source": [
    "### Overall Questions to Answer"
   ]
  },
  {
   "cell_type": "markdown",
   "metadata": {},
   "source": [
    "__0.0 Why whales?__"
   ]
  },
  {
   "cell_type": "markdown",
   "metadata": {},
   "source": [
    "I have always been fascinated by whales since childhood, especially blue whales. Blue whale is the largest animals on earth. It really intrigues me that how these animals,genetically more similar to us than a lot of animals on the land, live and evolve. Their migration pattern seems to be a good source to start learning about them."
   ]
  },
  {
   "cell_type": "markdown",
   "metadata": {},
   "source": [
    "__1. What features you find most useful?__"
   ]
  },
  {
   "cell_type": "markdown",
   "metadata": {},
   "source": [
    "- live data feeds of tracking\n",
    "- software packages (may explore some in this post)"
   ]
  },
  {
   "cell_type": "markdown",
   "metadata": {},
   "source": [
    "__2. What kind of questions can we ask when using this database?__"
   ]
  },
  {
   "cell_type": "markdown",
   "metadata": {},
   "source": [
    "- Research question to solve using Movebank: \n",
    "    - evolutionary migration pattern through a long period of time\n",
    "    - irregular migration event due to climate change/catastropic even\n",
    "    - periodical movement pattern (annual/biannual) \n",
    "- Technical question to solve using Movebank:\n",
    "    - what types of data methods can be used to solve the research questions (will be touched upon in this post!\n",
    "        - R \n",
    "        - python \n",
    "        - java\n",
    "        - software packages based on any of the above language"
   ]
  },
  {
   "cell_type": "markdown",
   "metadata": {},
   "source": [
    "__3. What tools are available top use this database?__"
   ]
  },
  {
   "cell_type": "markdown",
   "metadata": {},
   "source": [
    "- software packages..."
   ]
  },
  {
   "cell_type": "markdown",
   "metadata": {},
   "source": [
    "__4. What skills are required to use this database? Are there different options depending on skill level?__"
   ]
  },
  {
   "cell_type": "markdown",
   "metadata": {},
   "source": [
    "- Basic python knowledge of manipulating __Table__ and __array__ features \n",
    "- visualization methods\n",
    "    - plotting and graphing using __pandas__ (easy)\n",
    "    - interactive method using __ipywidge__  (medium - hard)\n",
    "    - java __Std.Draw__ method--> animation, similar to interactive method (hard - extra hard)\n",
    "    "
   ]
  },
  {
   "cell_type": "markdown",
   "metadata": {},
   "source": [
    "__5. How do you get the data?__"
   ]
  },
  {
   "cell_type": "markdown",
   "metadata": {},
   "source": [
    "- Direct download from Movebank, can search from key word"
   ]
  },
  {
   "cell_type": "markdown",
   "metadata": {},
   "source": [
    "__6. What external tutorials helped you access the database?__"
   ]
  },
  {
   "cell_type": "markdown",
   "metadata": {},
   "source": [
    "- documentations of different packages"
   ]
  },
  {
   "cell_type": "markdown",
   "metadata": {},
   "source": [
    "__7. What are the challenges to using this data?__"
   ]
  },
  {
   "cell_type": "markdown",
   "metadata": {},
   "source": [
    "__8. What are the rules for using this database? Are their specific licenses?__"
   ]
  },
  {
   "cell_type": "markdown",
   "metadata": {},
   "source": [
    "__9. Are there tools that you can imagine being built that would make using this database more usable?__"
   ]
  },
  {
   "cell_type": "markdown",
   "metadata": {},
   "source": [
    "__10. What other databases can you use to merge into your database easily?__"
   ]
  },
  {
   "cell_type": "markdown",
   "metadata": {},
   "source": [
    "__11. What other databases can you use to merge into your database easily__"
   ]
  },
  {
   "cell_type": "raw",
   "metadata": {},
   "source": []
  },
  {
   "cell_type": "markdown",
   "metadata": {},
   "source": [
    "### Week of Feburary 18"
   ]
  },
  {
   "cell_type": "markdown",
   "metadata": {},
   "source": [
    "- Pictures that I love a lot from Biodiversity Library --> can i download it? Citing the source?"
   ]
  },
  {
   "cell_type": "code",
   "execution_count": null,
   "metadata": {
    "collapsed": true
   },
   "outputs": [],
   "source": []
  }
 ],
 "metadata": {
  "kernelspec": {
   "display_name": "Python 3",
   "language": "python",
   "name": "python3"
  },
  "language_info": {
   "codemirror_mode": {
    "name": "ipython",
    "version": 3
   },
   "file_extension": ".py",
   "mimetype": "text/x-python",
   "name": "python",
   "nbconvert_exporter": "python",
   "pygments_lexer": "ipython3",
   "version": "3.6.3"
  }
 },
 "nbformat": 4,
 "nbformat_minor": 2
}
