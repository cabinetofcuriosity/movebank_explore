{
 "cells": [
  {
   "cell_type": "markdown",
   "metadata": {},
   "source": [
    "# Movebank Data Analysis Attempt"
   ]
  },
  {
   "cell_type": "markdown",
   "metadata": {},
   "source": [
    "After downloading the data, I found that the package came with two csv files. First, we can import the two tables - reference and Argos. To do so, we will have to import pandas (and numpy, for easier use later)."
   ]
  },
  {
   "cell_type": "code",
   "execution_count": 1,
   "metadata": {
    "collapsed": true
   },
   "outputs": [],
   "source": [
    "import pandas as pd\n",
    "import numpy as np"
   ]
  },
  {
   "cell_type": "markdown",
   "metadata": {},
   "source": [
    "Read the reference table"
   ]
  },
  {
   "cell_type": "code",
   "execution_count": 2,
   "metadata": {},
   "outputs": [
    {
     "data": {
      "text/html": [
       "<div>\n",
       "<style>\n",
       "    .dataframe thead tr:only-child th {\n",
       "        text-align: right;\n",
       "    }\n",
       "\n",
       "    .dataframe thead th {\n",
       "        text-align: left;\n",
       "    }\n",
       "\n",
       "    .dataframe tbody tr th {\n",
       "        vertical-align: top;\n",
       "    }\n",
       "</style>\n",
       "<table border=\"1\" class=\"dataframe\">\n",
       "  <thead>\n",
       "    <tr style=\"text-align: right;\">\n",
       "      <th></th>\n",
       "      <th>tag-id</th>\n",
       "      <th>animal-id</th>\n",
       "      <th>animal-taxon</th>\n",
       "      <th>deploy-on-date</th>\n",
       "      <th>deploy-off-date</th>\n",
       "      <th>animal-life-stage</th>\n",
       "      <th>animal-sex</th>\n",
       "      <th>attachment-type</th>\n",
       "      <th>deploy-on-latitude</th>\n",
       "      <th>deploy-on-longitude</th>\n",
       "      <th>deployment-id</th>\n",
       "      <th>manipulation-type</th>\n",
       "      <th>study-site</th>\n",
       "      <th>tag-manufacturer-name</th>\n",
       "      <th>tag-model</th>\n",
       "      <th>tag-readout-method</th>\n",
       "    </tr>\n",
       "  </thead>\n",
       "  <tbody>\n",
       "    <tr>\n",
       "      <th>0</th>\n",
       "      <td>1993CA-ST6-10823</td>\n",
       "      <td>1993CA-Bmu-10823</td>\n",
       "      <td>Balaenoptera musculus</td>\n",
       "      <td>1993-08-28 18:20:00.000</td>\n",
       "      <td>1993-09-01 22:35:12.000</td>\n",
       "      <td>adult</td>\n",
       "      <td></td>\n",
       "      <td>implant</td>\n",
       "      <td>37.012</td>\n",
       "      <td>-122.412</td>\n",
       "      <td>1993CA-10823</td>\n",
       "      <td>none</td>\n",
       "      <td>Pt. Ano Nuevo, CA</td>\n",
       "      <td>Telonics, Inc</td>\n",
       "      <td>ST6</td>\n",
       "      <td>satellite</td>\n",
       "    </tr>\n",
       "    <tr>\n",
       "      <th>1</th>\n",
       "      <td>1993CA-ST6-10833</td>\n",
       "      <td>1993CA-Bmu-10833</td>\n",
       "      <td>Balaenoptera musculus</td>\n",
       "      <td>1993-08-28 18:54:00.000</td>\n",
       "      <td>1993-08-28 21:45:56.000</td>\n",
       "      <td>adult</td>\n",
       "      <td></td>\n",
       "      <td>implant</td>\n",
       "      <td>37.022</td>\n",
       "      <td>-122.415</td>\n",
       "      <td>1993CA-10833</td>\n",
       "      <td>none</td>\n",
       "      <td>Pt. Ano Nuevo, CA</td>\n",
       "      <td>Telonics, Inc</td>\n",
       "      <td>ST6</td>\n",
       "      <td>satellite</td>\n",
       "    </tr>\n",
       "    <tr>\n",
       "      <th>2</th>\n",
       "      <td>1993CA-ST6-00834</td>\n",
       "      <td>1993CA-Bmu-00834</td>\n",
       "      <td>Balaenoptera musculus</td>\n",
       "      <td>1993-08-29 01:13:00.000</td>\n",
       "      <td>1993-09-05 13:41:06.000</td>\n",
       "      <td>adult</td>\n",
       "      <td></td>\n",
       "      <td>implant</td>\n",
       "      <td>37.058</td>\n",
       "      <td>-122.433</td>\n",
       "      <td>1993CA-00834</td>\n",
       "      <td>none</td>\n",
       "      <td>Pt. Ano Nuevo, CA</td>\n",
       "      <td>Telonics, Inc</td>\n",
       "      <td>ST6</td>\n",
       "      <td>satellite</td>\n",
       "    </tr>\n",
       "    <tr>\n",
       "      <th>3</th>\n",
       "      <td>1993CA-ST6-10836</td>\n",
       "      <td>1993CA-Bmu-10836</td>\n",
       "      <td>Balaenoptera musculus</td>\n",
       "      <td>1993-08-31 23:40:00.000</td>\n",
       "      <td>1993-09-04 16:35:40.000</td>\n",
       "      <td>adult</td>\n",
       "      <td></td>\n",
       "      <td>implant</td>\n",
       "      <td>37.198</td>\n",
       "      <td>-122.773</td>\n",
       "      <td>1993CA-10836</td>\n",
       "      <td>none</td>\n",
       "      <td>Pigeon Point, CA</td>\n",
       "      <td>Telonics, Inc</td>\n",
       "      <td>ST6</td>\n",
       "      <td>satellite</td>\n",
       "    </tr>\n",
       "    <tr>\n",
       "      <th>4</th>\n",
       "      <td>1994CA-ST10-10821</td>\n",
       "      <td>1994CA-Bmu-10821</td>\n",
       "      <td>Balaenoptera musculus</td>\n",
       "      <td>1994-09-13 20:31:00.000</td>\n",
       "      <td>1994-09-14 00:23:34.000</td>\n",
       "      <td>adult</td>\n",
       "      <td></td>\n",
       "      <td>implant</td>\n",
       "      <td>37.600</td>\n",
       "      <td>-123.000</td>\n",
       "      <td>1994CA-10821</td>\n",
       "      <td>none</td>\n",
       "      <td>Farallon Islands, CA</td>\n",
       "      <td>Telonics, Inc</td>\n",
       "      <td>ST10</td>\n",
       "      <td>satellite</td>\n",
       "    </tr>\n",
       "  </tbody>\n",
       "</table>\n",
       "</div>"
      ],
      "text/plain": [
       "              tag-id         animal-id           animal-taxon  \\\n",
       "0   1993CA-ST6-10823  1993CA-Bmu-10823  Balaenoptera musculus   \n",
       "1   1993CA-ST6-10833  1993CA-Bmu-10833  Balaenoptera musculus   \n",
       "2   1993CA-ST6-00834  1993CA-Bmu-00834  Balaenoptera musculus   \n",
       "3   1993CA-ST6-10836  1993CA-Bmu-10836  Balaenoptera musculus   \n",
       "4  1994CA-ST10-10821  1994CA-Bmu-10821  Balaenoptera musculus   \n",
       "\n",
       "            deploy-on-date          deploy-off-date animal-life-stage  \\\n",
       "0  1993-08-28 18:20:00.000  1993-09-01 22:35:12.000             adult   \n",
       "1  1993-08-28 18:54:00.000  1993-08-28 21:45:56.000             adult   \n",
       "2  1993-08-29 01:13:00.000  1993-09-05 13:41:06.000             adult   \n",
       "3  1993-08-31 23:40:00.000  1993-09-04 16:35:40.000             adult   \n",
       "4  1994-09-13 20:31:00.000  1994-09-14 00:23:34.000             adult   \n",
       "\n",
       "  animal-sex attachment-type  deploy-on-latitude  deploy-on-longitude  \\\n",
       "0                    implant              37.012             -122.412   \n",
       "1                    implant              37.022             -122.415   \n",
       "2                    implant              37.058             -122.433   \n",
       "3                    implant              37.198             -122.773   \n",
       "4                    implant              37.600             -123.000   \n",
       "\n",
       "  deployment-id manipulation-type            study-site tag-manufacturer-name  \\\n",
       "0  1993CA-10823              none     Pt. Ano Nuevo, CA         Telonics, Inc   \n",
       "1  1993CA-10833              none     Pt. Ano Nuevo, CA         Telonics, Inc   \n",
       "2  1993CA-00834              none     Pt. Ano Nuevo, CA         Telonics, Inc   \n",
       "3  1993CA-10836              none      Pigeon Point, CA         Telonics, Inc   \n",
       "4  1994CA-10821              none  Farallon Islands, CA         Telonics, Inc   \n",
       "\n",
       "  tag-model tag-readout-method  \n",
       "0       ST6          satellite  \n",
       "1       ST6          satellite  \n",
       "2       ST6          satellite  \n",
       "3       ST6          satellite  \n",
       "4      ST10          satellite  "
      ]
     },
     "execution_count": 2,
     "metadata": {},
     "output_type": "execute_result"
    }
   ],
   "source": [
    "whale_ref = pd.read_csv(\"../data/Blue_whales_reference.csv\")\n",
    "whale_ref.head()"
   ]
  },
  {
   "cell_type": "code",
   "execution_count": 3,
   "metadata": {},
   "outputs": [
    {
     "data": {
      "text/plain": [
       "(143, 16)"
      ]
     },
     "execution_count": 3,
     "metadata": {},
     "output_type": "execute_result"
    }
   ],
   "source": [
    "whale_ref.shape"
   ]
  },
  {
   "cell_type": "markdown",
   "metadata": {},
   "source": [
    "The reference table records the information of each blue whale monitore. It is of size 143 rows x 16 columns. Let's figure out what each column is about."
   ]
  },
  {
   "cell_type": "code",
   "execution_count": 4,
   "metadata": {},
   "outputs": [
    {
     "data": {
      "text/plain": [
       "Index(['tag-id', 'animal-id', 'animal-taxon', 'deploy-on-date',\n",
       "       'deploy-off-date', 'animal-life-stage', 'animal-sex', 'attachment-type',\n",
       "       'deploy-on-latitude', 'deploy-on-longitude', 'deployment-id',\n",
       "       'manipulation-type', 'study-site', 'tag-manufacturer-name', 'tag-model',\n",
       "       'tag-readout-method'],\n",
       "      dtype='object')"
      ]
     },
     "execution_count": 4,
     "metadata": {},
     "output_type": "execute_result"
    }
   ],
   "source": [
    "whale_ref.columns"
   ]
  },
  {
   "cell_type": "markdown",
   "metadata": {},
   "source": [
    "Combined with the column information provided in the README.txt file, we can find a few columns that provide informations that will be useful to us \n",
    "- *amimal-id*: An individual identifier for the subjects monitored\n",
    "- *deploy-on-date* & *deploy-off-date*: the start and end time of monitoring\n",
    "- *deploy-on-latitude* & *deploy-on-longitutde*: the start location of monitoring\n",
    "- *study-site*: name of deployment site/facility"
   ]
  },
  {
   "cell_type": "markdown",
   "metadata": {},
   "source": [
    "Before we downsize the table to a more concise version, let's check if the some standard measures (i.e. other less interesting columns) are uniform for each subject recorded."
   ]
  },
  {
   "cell_type": "code",
   "execution_count": 5,
   "metadata": {},
   "outputs": [
    {
     "data": {
      "text/html": [
       "<div>\n",
       "<style>\n",
       "    .dataframe thead tr:only-child th {\n",
       "        text-align: right;\n",
       "    }\n",
       "\n",
       "    .dataframe thead th {\n",
       "        text-align: left;\n",
       "    }\n",
       "\n",
       "    .dataframe tbody tr th {\n",
       "        vertical-align: top;\n",
       "    }\n",
       "</style>\n",
       "<table border=\"1\" class=\"dataframe\">\n",
       "  <thead>\n",
       "    <tr style=\"text-align: right;\">\n",
       "      <th></th>\n",
       "      <th></th>\n",
       "      <th></th>\n",
       "      <th></th>\n",
       "      <th></th>\n",
       "      <th>tag-id</th>\n",
       "      <th>animal-id</th>\n",
       "      <th>deploy-on-date</th>\n",
       "      <th>deploy-off-date</th>\n",
       "      <th>animal-sex</th>\n",
       "      <th>deploy-on-latitude</th>\n",
       "      <th>deploy-on-longitude</th>\n",
       "      <th>deployment-id</th>\n",
       "      <th>study-site</th>\n",
       "      <th>tag-manufacturer-name</th>\n",
       "      <th>tag-model</th>\n",
       "    </tr>\n",
       "    <tr>\n",
       "      <th>animal-life-stage</th>\n",
       "      <th>animal-taxon</th>\n",
       "      <th>attachment-type</th>\n",
       "      <th>manipulation-type</th>\n",
       "      <th>tag-readout-method</th>\n",
       "      <th></th>\n",
       "      <th></th>\n",
       "      <th></th>\n",
       "      <th></th>\n",
       "      <th></th>\n",
       "      <th></th>\n",
       "      <th></th>\n",
       "      <th></th>\n",
       "      <th></th>\n",
       "      <th></th>\n",
       "      <th></th>\n",
       "    </tr>\n",
       "  </thead>\n",
       "  <tbody>\n",
       "    <tr>\n",
       "      <th>adult</th>\n",
       "      <th>Balaenoptera musculus</th>\n",
       "      <th>implant</th>\n",
       "      <th>none</th>\n",
       "      <th>satellite</th>\n",
       "      <td>143</td>\n",
       "      <td>143</td>\n",
       "      <td>143</td>\n",
       "      <td>143</td>\n",
       "      <td>143</td>\n",
       "      <td>143</td>\n",
       "      <td>143</td>\n",
       "      <td>143</td>\n",
       "      <td>143</td>\n",
       "      <td>143</td>\n",
       "      <td>143</td>\n",
       "    </tr>\n",
       "  </tbody>\n",
       "</table>\n",
       "</div>"
      ],
      "text/plain": [
       "                                                                                              tag-id  \\\n",
       "animal-life-stage animal-taxon          attachment-type manipulation-type tag-readout-method           \n",
       "adult             Balaenoptera musculus implant         none              satellite              143   \n",
       "\n",
       "                                                                                              animal-id  \\\n",
       "animal-life-stage animal-taxon          attachment-type manipulation-type tag-readout-method              \n",
       "adult             Balaenoptera musculus implant         none              satellite                 143   \n",
       "\n",
       "                                                                                              deploy-on-date  \\\n",
       "animal-life-stage animal-taxon          attachment-type manipulation-type tag-readout-method                   \n",
       "adult             Balaenoptera musculus implant         none              satellite                      143   \n",
       "\n",
       "                                                                                              deploy-off-date  \\\n",
       "animal-life-stage animal-taxon          attachment-type manipulation-type tag-readout-method                    \n",
       "adult             Balaenoptera musculus implant         none              satellite                       143   \n",
       "\n",
       "                                                                                              animal-sex  \\\n",
       "animal-life-stage animal-taxon          attachment-type manipulation-type tag-readout-method               \n",
       "adult             Balaenoptera musculus implant         none              satellite                  143   \n",
       "\n",
       "                                                                                              deploy-on-latitude  \\\n",
       "animal-life-stage animal-taxon          attachment-type manipulation-type tag-readout-method                       \n",
       "adult             Balaenoptera musculus implant         none              satellite                          143   \n",
       "\n",
       "                                                                                              deploy-on-longitude  \\\n",
       "animal-life-stage animal-taxon          attachment-type manipulation-type tag-readout-method                        \n",
       "adult             Balaenoptera musculus implant         none              satellite                           143   \n",
       "\n",
       "                                                                                              deployment-id  \\\n",
       "animal-life-stage animal-taxon          attachment-type manipulation-type tag-readout-method                  \n",
       "adult             Balaenoptera musculus implant         none              satellite                     143   \n",
       "\n",
       "                                                                                              study-site  \\\n",
       "animal-life-stage animal-taxon          attachment-type manipulation-type tag-readout-method               \n",
       "adult             Balaenoptera musculus implant         none              satellite                  143   \n",
       "\n",
       "                                                                                              tag-manufacturer-name  \\\n",
       "animal-life-stage animal-taxon          attachment-type manipulation-type tag-readout-method                          \n",
       "adult             Balaenoptera musculus implant         none              satellite                             143   \n",
       "\n",
       "                                                                                              tag-model  \n",
       "animal-life-stage animal-taxon          attachment-type manipulation-type tag-readout-method             \n",
       "adult             Balaenoptera musculus implant         none              satellite                 143  "
      ]
     },
     "execution_count": 5,
     "metadata": {},
     "output_type": "execute_result"
    }
   ],
   "source": [
    "whale_ref.groupby(['animal-life-stage','animal-taxon','attachment-type','manipulation-type','tag-readout-method']).count()"
   ]
  },
  {
   "cell_type": "code",
   "execution_count": 6,
   "metadata": {},
   "outputs": [
    {
     "data": {
      "text/html": [
       "<div>\n",
       "<style>\n",
       "    .dataframe thead tr:only-child th {\n",
       "        text-align: right;\n",
       "    }\n",
       "\n",
       "    .dataframe thead th {\n",
       "        text-align: left;\n",
       "    }\n",
       "\n",
       "    .dataframe tbody tr th {\n",
       "        vertical-align: top;\n",
       "    }\n",
       "</style>\n",
       "<table border=\"1\" class=\"dataframe\">\n",
       "  <thead>\n",
       "    <tr style=\"text-align: right;\">\n",
       "      <th></th>\n",
       "      <th></th>\n",
       "      <th>tag-id</th>\n",
       "      <th>animal-id</th>\n",
       "      <th>animal-taxon</th>\n",
       "      <th>deploy-on-date</th>\n",
       "      <th>deploy-off-date</th>\n",
       "      <th>animal-life-stage</th>\n",
       "      <th>animal-sex</th>\n",
       "      <th>attachment-type</th>\n",
       "      <th>deploy-on-latitude</th>\n",
       "      <th>deploy-on-longitude</th>\n",
       "      <th>deployment-id</th>\n",
       "      <th>manipulation-type</th>\n",
       "      <th>study-site</th>\n",
       "      <th>tag-readout-method</th>\n",
       "    </tr>\n",
       "    <tr>\n",
       "      <th>tag-manufacturer-name</th>\n",
       "      <th>tag-model</th>\n",
       "      <th></th>\n",
       "      <th></th>\n",
       "      <th></th>\n",
       "      <th></th>\n",
       "      <th></th>\n",
       "      <th></th>\n",
       "      <th></th>\n",
       "      <th></th>\n",
       "      <th></th>\n",
       "      <th></th>\n",
       "      <th></th>\n",
       "      <th></th>\n",
       "      <th></th>\n",
       "      <th></th>\n",
       "    </tr>\n",
       "  </thead>\n",
       "  <tbody>\n",
       "    <tr>\n",
       "      <th rowspan=\"4\" valign=\"top\">Telonics, Inc</th>\n",
       "      <th>ST10</th>\n",
       "      <td>15</td>\n",
       "      <td>15</td>\n",
       "      <td>15</td>\n",
       "      <td>15</td>\n",
       "      <td>15</td>\n",
       "      <td>15</td>\n",
       "      <td>15</td>\n",
       "      <td>15</td>\n",
       "      <td>15</td>\n",
       "      <td>15</td>\n",
       "      <td>15</td>\n",
       "      <td>15</td>\n",
       "      <td>15</td>\n",
       "      <td>15</td>\n",
       "    </tr>\n",
       "    <tr>\n",
       "      <th>ST15</th>\n",
       "      <td>109</td>\n",
       "      <td>109</td>\n",
       "      <td>109</td>\n",
       "      <td>109</td>\n",
       "      <td>109</td>\n",
       "      <td>109</td>\n",
       "      <td>109</td>\n",
       "      <td>109</td>\n",
       "      <td>109</td>\n",
       "      <td>109</td>\n",
       "      <td>109</td>\n",
       "      <td>109</td>\n",
       "      <td>109</td>\n",
       "      <td>109</td>\n",
       "    </tr>\n",
       "    <tr>\n",
       "      <th>ST21</th>\n",
       "      <td>6</td>\n",
       "      <td>6</td>\n",
       "      <td>6</td>\n",
       "      <td>6</td>\n",
       "      <td>6</td>\n",
       "      <td>6</td>\n",
       "      <td>6</td>\n",
       "      <td>6</td>\n",
       "      <td>6</td>\n",
       "      <td>6</td>\n",
       "      <td>6</td>\n",
       "      <td>6</td>\n",
       "      <td>6</td>\n",
       "      <td>6</td>\n",
       "    </tr>\n",
       "    <tr>\n",
       "      <th>ST6</th>\n",
       "      <td>12</td>\n",
       "      <td>12</td>\n",
       "      <td>12</td>\n",
       "      <td>12</td>\n",
       "      <td>12</td>\n",
       "      <td>12</td>\n",
       "      <td>12</td>\n",
       "      <td>12</td>\n",
       "      <td>12</td>\n",
       "      <td>12</td>\n",
       "      <td>12</td>\n",
       "      <td>12</td>\n",
       "      <td>12</td>\n",
       "      <td>12</td>\n",
       "    </tr>\n",
       "    <tr>\n",
       "      <th>Wildlife Computers, Inc</th>\n",
       "      <th>MK10</th>\n",
       "      <td>1</td>\n",
       "      <td>1</td>\n",
       "      <td>1</td>\n",
       "      <td>1</td>\n",
       "      <td>1</td>\n",
       "      <td>1</td>\n",
       "      <td>1</td>\n",
       "      <td>1</td>\n",
       "      <td>1</td>\n",
       "      <td>1</td>\n",
       "      <td>1</td>\n",
       "      <td>1</td>\n",
       "      <td>1</td>\n",
       "      <td>1</td>\n",
       "    </tr>\n",
       "  </tbody>\n",
       "</table>\n",
       "</div>"
      ],
      "text/plain": [
       "                                   tag-id  animal-id  animal-taxon  \\\n",
       "tag-manufacturer-name   tag-model                                    \n",
       "Telonics, Inc           ST10           15         15            15   \n",
       "                        ST15          109        109           109   \n",
       "                        ST21            6          6             6   \n",
       "                        ST6            12         12            12   \n",
       "Wildlife Computers, Inc MK10            1          1             1   \n",
       "\n",
       "                                   deploy-on-date  deploy-off-date  \\\n",
       "tag-manufacturer-name   tag-model                                    \n",
       "Telonics, Inc           ST10                   15               15   \n",
       "                        ST15                  109              109   \n",
       "                        ST21                    6                6   \n",
       "                        ST6                    12               12   \n",
       "Wildlife Computers, Inc MK10                    1                1   \n",
       "\n",
       "                                   animal-life-stage  animal-sex  \\\n",
       "tag-manufacturer-name   tag-model                                  \n",
       "Telonics, Inc           ST10                      15          15   \n",
       "                        ST15                     109         109   \n",
       "                        ST21                       6           6   \n",
       "                        ST6                       12          12   \n",
       "Wildlife Computers, Inc MK10                       1           1   \n",
       "\n",
       "                                   attachment-type  deploy-on-latitude  \\\n",
       "tag-manufacturer-name   tag-model                                        \n",
       "Telonics, Inc           ST10                    15                  15   \n",
       "                        ST15                   109                 109   \n",
       "                        ST21                     6                   6   \n",
       "                        ST6                     12                  12   \n",
       "Wildlife Computers, Inc MK10                     1                   1   \n",
       "\n",
       "                                   deploy-on-longitude  deployment-id  \\\n",
       "tag-manufacturer-name   tag-model                                       \n",
       "Telonics, Inc           ST10                        15             15   \n",
       "                        ST15                       109            109   \n",
       "                        ST21                         6              6   \n",
       "                        ST6                         12             12   \n",
       "Wildlife Computers, Inc MK10                         1              1   \n",
       "\n",
       "                                   manipulation-type  study-site  \\\n",
       "tag-manufacturer-name   tag-model                                  \n",
       "Telonics, Inc           ST10                      15          15   \n",
       "                        ST15                     109         109   \n",
       "                        ST21                       6           6   \n",
       "                        ST6                       12          12   \n",
       "Wildlife Computers, Inc MK10                       1           1   \n",
       "\n",
       "                                   tag-readout-method  \n",
       "tag-manufacturer-name   tag-model                      \n",
       "Telonics, Inc           ST10                       15  \n",
       "                        ST15                      109  \n",
       "                        ST21                        6  \n",
       "                        ST6                        12  \n",
       "Wildlife Computers, Inc MK10                        1  "
      ]
     },
     "execution_count": 6,
     "metadata": {},
     "output_type": "execute_result"
    }
   ],
   "source": [
    "whale_ref.groupby(['tag-manufacturer-name','tag-model']).count()"
   ]
  },
  {
   "cell_type": "markdown",
   "metadata": {},
   "source": [
    "Although most of the housekeeping columns have only one entry for all the rows (subjects), __the tag-model used for each subject is not exactly the same__ - most of which are ST15, and a few are of a slightly different model. __Will this create some problem for the data collected?__ We will find out later!"
   ]
  },
  {
   "cell_type": "markdown",
   "metadata": {},
   "source": [
    "Now let's clean up our reference table for further use. "
   ]
  },
  {
   "cell_type": "code",
   "execution_count": 21,
   "metadata": {},
   "outputs": [
    {
     "data": {
      "text/html": [
       "<div>\n",
       "<style>\n",
       "    .dataframe thead tr:only-child th {\n",
       "        text-align: right;\n",
       "    }\n",
       "\n",
       "    .dataframe thead th {\n",
       "        text-align: left;\n",
       "    }\n",
       "\n",
       "    .dataframe tbody tr th {\n",
       "        vertical-align: top;\n",
       "    }\n",
       "</style>\n",
       "<table border=\"1\" class=\"dataframe\">\n",
       "  <thead>\n",
       "    <tr style=\"text-align: right;\">\n",
       "      <th></th>\n",
       "      <th>animal-id</th>\n",
       "      <th>deploy-on-date</th>\n",
       "      <th>deploy-off-date</th>\n",
       "      <th>deploy-on-latitude</th>\n",
       "      <th>deploy-on-longitude</th>\n",
       "      <th>study-site</th>\n",
       "      <th>tag-manufacturer-name</th>\n",
       "      <th>tag-model</th>\n",
       "    </tr>\n",
       "  </thead>\n",
       "  <tbody>\n",
       "    <tr>\n",
       "      <th>0</th>\n",
       "      <td>1993CA-Bmu-10823</td>\n",
       "      <td>1993-08-28 18:20:00.000</td>\n",
       "      <td>1993-09-01 22:35:12.000</td>\n",
       "      <td>37.012</td>\n",
       "      <td>-122.412</td>\n",
       "      <td>Pt. Ano Nuevo, CA</td>\n",
       "      <td>Telonics, Inc</td>\n",
       "      <td>ST6</td>\n",
       "    </tr>\n",
       "    <tr>\n",
       "      <th>1</th>\n",
       "      <td>1993CA-Bmu-10833</td>\n",
       "      <td>1993-08-28 18:54:00.000</td>\n",
       "      <td>1993-08-28 21:45:56.000</td>\n",
       "      <td>37.022</td>\n",
       "      <td>-122.415</td>\n",
       "      <td>Pt. Ano Nuevo, CA</td>\n",
       "      <td>Telonics, Inc</td>\n",
       "      <td>ST6</td>\n",
       "    </tr>\n",
       "    <tr>\n",
       "      <th>2</th>\n",
       "      <td>1993CA-Bmu-00834</td>\n",
       "      <td>1993-08-29 01:13:00.000</td>\n",
       "      <td>1993-09-05 13:41:06.000</td>\n",
       "      <td>37.058</td>\n",
       "      <td>-122.433</td>\n",
       "      <td>Pt. Ano Nuevo, CA</td>\n",
       "      <td>Telonics, Inc</td>\n",
       "      <td>ST6</td>\n",
       "    </tr>\n",
       "  </tbody>\n",
       "</table>\n",
       "</div>"
      ],
      "text/plain": [
       "          animal-id           deploy-on-date          deploy-off-date  \\\n",
       "0  1993CA-Bmu-10823  1993-08-28 18:20:00.000  1993-09-01 22:35:12.000   \n",
       "1  1993CA-Bmu-10833  1993-08-28 18:54:00.000  1993-08-28 21:45:56.000   \n",
       "2  1993CA-Bmu-00834  1993-08-29 01:13:00.000  1993-09-05 13:41:06.000   \n",
       "\n",
       "   deploy-on-latitude  deploy-on-longitude         study-site  \\\n",
       "0              37.012             -122.412  Pt. Ano Nuevo, CA   \n",
       "1              37.022             -122.415  Pt. Ano Nuevo, CA   \n",
       "2              37.058             -122.433  Pt. Ano Nuevo, CA   \n",
       "\n",
       "  tag-manufacturer-name tag-model  \n",
       "0         Telonics, Inc       ST6  \n",
       "1         Telonics, Inc       ST6  \n",
       "2         Telonics, Inc       ST6  "
      ]
     },
     "execution_count": 21,
     "metadata": {},
     "output_type": "execute_result"
    }
   ],
   "source": [
    "whale_ref_clean = whale_ref[[\"animal-id\",\"deploy-on-date\",\"deploy-off-date\",\"deploy-on-latitude\",\n",
    "                             \"deploy-on-longitude\",\"study-site\",\"tag-manufacturer-name\",\"tag-model\"]]\n",
    "whale_ref_clean.head(3)"
   ]
  },
  {
   "cell_type": "code",
   "execution_count": 20,
   "metadata": {},
   "outputs": [
    {
     "data": {
      "text/plain": [
       "animal-id                 object\n",
       "deploy-on-date            object\n",
       "deploy-off-date           object\n",
       "deploy-on-latitude       float64\n",
       "deploy-on-longitude      float64\n",
       "study-site                object\n",
       "tag-manufacturer-name     object\n",
       "tag-model                 object\n",
       "dtype: object"
      ]
     },
     "execution_count": 20,
     "metadata": {},
     "output_type": "execute_result"
    }
   ],
   "source": [
    "whale_ref_clean.dtypes"
   ]
  },
  {
   "cell_type": "code",
   "execution_count": 24,
   "metadata": {},
   "outputs": [
    {
     "name": "stderr",
     "output_type": "stream",
     "text": [
      "/Users/s.n.zhou/anaconda3/lib/python3.6/site-packages/ipykernel_launcher.py:1: SettingWithCopyWarning: \n",
      "A value is trying to be set on a copy of a slice from a DataFrame.\n",
      "Try using .loc[row_indexer,col_indexer] = value instead\n",
      "\n",
      "See the caveats in the documentation: http://pandas.pydata.org/pandas-docs/stable/indexing.html#indexing-view-versus-copy\n",
      "  \"\"\"Entry point for launching an IPython kernel.\n",
      "/Users/s.n.zhou/anaconda3/lib/python3.6/site-packages/ipykernel_launcher.py:2: SettingWithCopyWarning: \n",
      "A value is trying to be set on a copy of a slice from a DataFrame.\n",
      "Try using .loc[row_indexer,col_indexer] = value instead\n",
      "\n",
      "See the caveats in the documentation: http://pandas.pydata.org/pandas-docs/stable/indexing.html#indexing-view-versus-copy\n",
      "  \n"
     ]
    },
    {
     "data": {
      "text/plain": [
       "animal-id                        object\n",
       "deploy-on-date           datetime64[ns]\n",
       "deploy-off-date          datetime64[ns]\n",
       "deploy-on-latitude              float64\n",
       "deploy-on-longitude             float64\n",
       "study-site                       object\n",
       "tag-manufacturer-name            object\n",
       "tag-model                        object\n",
       "dtype: object"
      ]
     },
     "execution_count": 24,
     "metadata": {},
     "output_type": "execute_result"
    }
   ],
   "source": [
    "whale_ref_clean['deploy-on-date'] = pd.to_datetime(whale_ref_clean['deploy-on-date'])\n",
    "whale_ref_clean['deploy-off-date'] = pd.to_datetime(whale_ref_clean['deploy-off-date'])\n",
    "whale_ref_clean.dtypes"
   ]
  },
  {
   "cell_type": "code",
   "execution_count": null,
   "metadata": {
    "collapsed": true
   },
   "outputs": [],
   "source": []
  },
  {
   "cell_type": "markdown",
   "metadata": {},
   "source": [
    "Now let's move on to the juicer table! Repeat the same procedure done to the reference table."
   ]
  },
  {
   "cell_type": "code",
   "execution_count": null,
   "metadata": {},
   "outputs": [],
   "source": [
    "whale_data = pd.read_csv(\"../data/Blue_whales_Argos.csv\")\n",
    "whale_data.head(3)"
   ]
  },
  {
   "cell_type": "code",
   "execution_count": null,
   "metadata": {},
   "outputs": [],
   "source": [
    "whale_data.shape"
   ]
  },
  {
   "cell_type": "code",
   "execution_count": null,
   "metadata": {},
   "outputs": [],
   "source": [
    "whale_data.columns"
   ]
  },
  {
   "cell_type": "markdown",
   "metadata": {},
   "source": [
    "Combined with the column information provided in the README.txt file, we can find a few columns that provide informations that will be useful to us \n",
    "- *timestamp*: The time point that a sensory measurement was taken\n",
    "- *locaetion-long* & *location-lat*: the start location of monitoring\n",
    "- *individual-local-identifier*: same as \"animal-id\" in reference table\n",
    "- *manually-marked-outlier*: marked TRUE if \"visible\" marked FALSE\n",
    "\n",
    "Some other technical measure associated with satellite signal receiving process that may be helpful for us to measure/visualize the credulity of data: \n",
    "- *argos:best-level*: Best signal strength\n",
    "- *argos:calcul-freq*: Calculated frequency\n",
    "- *argos:iq*: indicates transmitter oscillator frequency drift between two satellite passe\n",
    "- *argos:nb-mes-120*: The number of messages received by the satellite at a signal strength greater than -120 decibels\n",
    "- *sensor-type*: type of tracking sensor used (also appeared in reference table)\n",
    "\n"
   ]
  },
  {
   "cell_type": "markdown",
   "metadata": {},
   "source": [
    "After identifying what we need and do not need, let us do some clean up and re-naming."
   ]
  },
  {
   "cell_type": "code",
   "execution_count": null,
   "metadata": {},
   "outputs": [],
   "source": [
    "whale_data_clean = whale_data[['individual-local-identifier','timestamp','location-lat', 'location-long', \n",
    "                               'manually-marked-outlier','argos:best-level', 'argos:calcul-freq', 'argos:iq',\n",
    "                               'argos:nb-mes','argos:nb-mes-120', 'sensor-type']]\n",
    "whale_data_clean.columns = ['animal-id','timestamp','location-lat', 'location-long', \n",
    "                               'outlier','argos:best-level', 'argos:calcul-freq', 'argos:iq',\n",
    "                               'argos:no-mes-rec','argos:no-mes-rec-120', 'sensor-type']\n",
    "whale_data_clean.head()"
   ]
  },
  {
   "cell_type": "code",
   "execution_count": null,
   "metadata": {},
   "outputs": [],
   "source": [
    "whale_data.groupby([\"manually-marked-outlier\",\"individual-local-identifier\"]).count()"
   ]
  },
  {
   "cell_type": "code",
   "execution_count": null,
   "metadata": {
    "collapsed": true
   },
   "outputs": [],
   "source": [
    "whale_data.dtypes"
   ]
  },
  {
   "cell_type": "code",
   "execution_count": null,
   "metadata": {
    "collapsed": true
   },
   "outputs": [],
   "source": [
    "whale_data[[]]"
   ]
  },
  {
   "cell_type": "code",
   "execution_count": null,
   "metadata": {
    "collapsed": true
   },
   "outputs": [],
   "source": []
  }
 ],
 "metadata": {
  "kernelspec": {
   "display_name": "Python 3",
   "language": "python",
   "name": "python3"
  },
  "language_info": {
   "codemirror_mode": {
    "name": "ipython",
    "version": 3
   },
   "file_extension": ".py",
   "mimetype": "text/x-python",
   "name": "python",
   "nbconvert_exporter": "python",
   "pygments_lexer": "ipython3",
   "version": "3.6.3"
  }
 },
 "nbformat": 4,
 "nbformat_minor": 2
}
